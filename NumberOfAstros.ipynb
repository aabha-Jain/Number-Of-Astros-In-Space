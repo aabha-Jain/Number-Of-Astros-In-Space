{
  "nbformat": 4,
  "nbformat_minor": 0,
  "metadata": {
    "colab": {
      "name": "NumberOfAstros.ipynb",
      "provenance": [],
      "collapsed_sections": []
    },
    "kernelspec": {
      "name": "python3",
      "display_name": "Python 3"
    },
    "language_info": {
      "name": "python"
    }
  },
  "cells": [
    {
      "cell_type": "code",
      "metadata": {
        "id": "FUPpwUplIWqs"
      },
      "source": [
        "import requests\n"
      ],
      "execution_count": 1,
      "outputs": []
    },
    {
      "cell_type": "code",
      "metadata": {
        "colab": {
          "base_uri": "https://localhost:8080/"
        },
        "id": "N4sdAjc8IaXV",
        "outputId": "1aa50f44-5b82-4f83-e6fb-5f0cbce74dac"
      },
      "source": [
        "response =requests.get(\"http://api.open-notify.org/astros.json\")\n",
        "data=response.json()\n",
        "\n",
        "print (\"number of people in ISS : \",data[\"number\"])\n",
        "\n",
        "for idx, person in enumerate(data['people']):\n",
        "  print(\"person\" + str(idx+1)+' : ' +person['name'])"
      ],
      "execution_count": 2,
      "outputs": [
        {
          "output_type": "stream",
          "text": [
            "number of people in ISS :  7\n",
            "person1 : Mark Vande Hei\n",
            "person2 : Oleg Novitskiy\n",
            "person3 : Pyotr Dubrov\n",
            "person4 : Thomas Pesquet\n",
            "person5 : Megan McArthur\n",
            "person6 : Shane Kimbrough\n",
            "person7 : Akihiko Hoshide\n"
          ],
          "name": "stdout"
        }
      ]
    },
    {
      "cell_type": "code",
      "metadata": {
        "id": "-LxfTgrHJA2t"
      },
      "source": [
        ""
      ],
      "execution_count": null,
      "outputs": []
    }
  ]
}